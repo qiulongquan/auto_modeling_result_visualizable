{
 "cells": [
  {
   "cell_type": "markdown",
   "metadata": {
    "colab_type": "text",
    "id": "rX8mhOLljYeM"
   },
   "source": [
    "##### Copyright 2019 The TensorFlow Authors."
   ]
  },
  {
   "cell_type": "code",
   "execution_count": 1,
   "metadata": {},
   "outputs": [
    {
     "name": "stdout",
     "output_type": "stream",
     "text": [
      "Package                           Version\r\n",
      "--------------------------------- -------------------\r\n",
      "absl-py                           0.10.0\r\n",
      "aiohttp                           3.6.2\r\n",
      "argon2-cffi                       20.1.0\r\n",
      "asn1crypto                        1.4.0\r\n",
      "astunparse                        1.6.3\r\n",
      "async-generator                   1.10\r\n",
      "async-timeout                     3.0.1\r\n",
      "attrs                             20.2.0\r\n",
      "backcall                          0.2.0\r\n",
      "backports.functools-lru-cache     1.6.1\r\n",
      "bleach                            3.2.1\r\n",
      "blinker                           1.4\r\n",
      "brotlipy                          0.7.0\r\n",
      "cachetools                        4.1.1\r\n",
      "certifi                           2020.6.20\r\n",
      "cffi                              1.14.3\r\n",
      "chardet                           3.0.4\r\n",
      "click                             7.1.2\r\n",
      "cryptography                      3.1.1\r\n",
      "cycler                            0.10.0\r\n",
      "decorator                         4.4.2\r\n",
      "defusedxml                        0.6.0\r\n",
      "entrypoints                       0.3\r\n",
      "flake8                            3.8.3\r\n",
      "gast                              0.3.3\r\n",
      "google-auth                       1.22.0\r\n",
      "google-auth-oauthlib              0.4.1\r\n",
      "google-pasta                      0.2.0\r\n",
      "grpcio                            1.31.0\r\n",
      "h5py                              2.10.0\r\n",
      "idna                              2.10\r\n",
      "importlib-metadata                1.7.0\r\n",
      "ipykernel                         5.3.4\r\n",
      "ipython                           7.18.1\r\n",
      "ipython-genutils                  0.2.0\r\n",
      "jedi                              0.17.2\r\n",
      "Jinja2                            2.11.2\r\n",
      "json5                             0.9.5\r\n",
      "jsonschema                        3.2.0\r\n",
      "jupyter-client                    6.1.7\r\n",
      "jupyter-contrib-core              0.3.3\r\n",
      "jupyter-contrib-nbextensions      0.5.1\r\n",
      "jupyter-core                      4.6.3\r\n",
      "jupyter-highlight-selected-word   0.2.0\r\n",
      "jupyter-latex-envs                1.4.6\r\n",
      "jupyter-nbextensions-configurator 0.4.1\r\n",
      "jupyterlab                        2.2.8\r\n",
      "jupyterlab-pygments               0.1.2\r\n",
      "jupyterlab-server                 1.2.0\r\n",
      "Keras                             2.4.3\r\n",
      "Keras-Preprocessing               1.1.2\r\n",
      "kiwisolver                        1.2.0\r\n",
      "lxml                              4.5.2\r\n",
      "Markdown                          3.2.2\r\n",
      "MarkupSafe                        1.1.1\r\n",
      "matplotlib                        3.3.2\r\n",
      "mccabe                            0.6.1\r\n",
      "mistune                           0.8.4\r\n",
      "mkl-fft                           1.2.0\r\n",
      "mkl-random                        1.1.1\r\n",
      "mkl-service                       2.3.0\r\n",
      "multidict                         4.7.6\r\n",
      "nbclient                          0.5.0\r\n",
      "nbconvert                         6.0.7\r\n",
      "nbformat                          5.0.7\r\n",
      "nest-asyncio                      1.4.1\r\n",
      "notebook                          6.1.4\r\n",
      "numpy                             1.19.1\r\n",
      "oauthlib                          3.1.0\r\n",
      "olefile                           0.46\r\n",
      "opencv-contrib-python             4.4.0.44\r\n",
      "opt-einsum                        3.1.0\r\n",
      "packaging                         20.4\r\n",
      "pandocfilters                     1.4.2\r\n",
      "parso                             0.7.1\r\n",
      "pexpect                           4.8.0\r\n",
      "pickleshare                       0.7.5\r\n",
      "Pillow                            7.2.0\r\n",
      "pip                               20.2.3\r\n",
      "prometheus-client                 0.8.0\r\n",
      "prompt-toolkit                    3.0.7\r\n",
      "protobuf                          3.13.0\r\n",
      "ptyprocess                        0.6.0\r\n",
      "pyasn1                            0.4.8\r\n",
      "pyasn1-modules                    0.2.8\r\n",
      "pycodestyle                       2.6.0\r\n",
      "pycosat                           0.6.3\r\n",
      "pycparser                         2.20\r\n",
      "pyflakes                          2.2.0\r\n",
      "Pygments                          2.7.1\r\n",
      "PyInquirer                        1.0.3\r\n",
      "PyJWT                             1.7.1\r\n",
      "pyOpenSSL                         19.1.0\r\n",
      "pyparsing                         2.4.7\r\n",
      "pyrsistent                        0.17.3\r\n",
      "PySocks                           1.7.1\r\n",
      "python-dateutil                   2.8.1\r\n",
      "PyYAML                            5.3.1\r\n",
      "pyzmq                             19.0.2\r\n",
      "regex                             2020.9.27\r\n",
      "requests                          2.24.0\r\n",
      "requests-oauthlib                 1.3.0\r\n",
      "rsa                               4.6\r\n",
      "ruamel-yaml                       0.15.87\r\n",
      "scipy                             1.5.2\r\n",
      "Send2Trash                        1.5.0\r\n",
      "setuptools                        49.6.0.post20200925\r\n",
      "six                               1.15.0\r\n",
      "tensorboard                       2.2.1\r\n",
      "tensorboard-plugin-wit            1.6.0\r\n",
      "tensorflow                        2.2.0\r\n",
      "tensorflow-estimator              2.3.0\r\n",
      "tensorflow-gpu                    2.3.1\r\n",
      "tensorflow-hub                    0.7.0\r\n",
      "tensorflowjs                      2.4.0\r\n",
      "termcolor                         1.1.0\r\n",
      "terminado                         0.9.1\r\n",
      "testpath                          0.4.4\r\n",
      "tornado                           6.0.4\r\n",
      "traitlets                         5.0.4\r\n",
      "urllib3                           1.25.10\r\n",
      "wcwidth                           0.2.5\r\n",
      "webencodings                      0.5.1\r\n",
      "Werkzeug                          1.0.1\r\n",
      "wheel                             0.35.1\r\n",
      "wrapt                             1.12.1\r\n",
      "yapf                              0.30.0\r\n",
      "yarl                              1.5.1\r\n",
      "zipp                              3.1.0\r\n"
     ]
    }
   ],
   "source": [
    "!pip list"
   ]
  },
  {
   "cell_type": "code",
   "execution_count": 2,
   "metadata": {},
   "outputs": [],
   "source": [
    "import os\n",
    "os.environ[\"CUDA_VISIBLE_DEVICES\"]=\"0\""
   ]
  },
  {
   "cell_type": "code",
   "execution_count": 3,
   "metadata": {},
   "outputs": [
    {
     "name": "stdout",
     "output_type": "stream",
     "text": [
      "Requirement already satisfied: yapf in /opt/conda/envs/py3-gpu-jupyter-ds/lib/python3.8/site-packages (0.30.0)\r\n"
     ]
    }
   ],
   "source": [
    "!pip install yapf"
   ]
  },
  {
   "cell_type": "code",
   "execution_count": 4,
   "metadata": {
    "cellView": "form",
    "colab": {},
    "colab_type": "code",
    "id": "BZSlp3DAjdYf"
   },
   "outputs": [],
   "source": [
    "#@title Licensed under the Apache License, Version 2.0 (the \"License\");\n",
    "# you may not use this file except in compliance with the License.\n",
    "# You may obtain a copy of the License at\n",
    "#\n",
    "# https://www.apache.org/licenses/LICENSE-2.0\n",
    "#\n",
    "# Unless required by applicable law or agreed to in writing, software\n",
    "# distributed under the License is distributed on an \"AS IS\" BASIS,\n",
    "# WITHOUT WARRANTIES OR CONDITIONS OF ANY KIND, either express or implied.\n",
    "# See the License for the specific language governing permissions and\n",
    "# limitations under the License."
   ]
  },
  {
   "cell_type": "markdown",
   "metadata": {
    "colab_type": "text",
    "id": "3wF5wszaj97Y"
   },
   "source": [
    "# 初学者的 TensorFlow 2.0 教程"
   ]
  },
  {
   "cell_type": "markdown",
   "metadata": {
    "colab_type": "text",
    "id": "DUNzJc4jTj6G"
   },
   "source": [
    "<table class=\"tfo-notebook-buttons\" align=\"left\">\n",
    "  <td>\n",
    "    <a target=\"_blank\" href=\"https://www.tensorflow.org/tutorials/quickstart/beginner\"><img src=\"https://www.tensorflow.org/images/tf_logo_32px.png\" />在 TensorFlow.org 观看</a>\n",
    "  </td>\n",
    "  <td>\n",
    "    <a target=\"_blank\" href=\"https://colab.research.google.com/github/tensorflow/docs-l10n/blob/master/site/zh-cn/tutorials/quickstart/beginner.ipynb\"><img src=\"https://www.tensorflow.org/images/colab_logo_32px.png\" />在 Google Colab 运行</a>\n",
    "  </td>\n",
    "  <td>\n",
    "    <a target=\"_blank\" href=\"https://github.com/tensorflow/docs-l10n/blob/master/site/zh-cn/tutorials/quickstart/beginner.ipynb\"><img src=\"https://www.tensorflow.org/images/GitHub-Mark-32px.png\" />在 GitHub 查看源代码</a>\n",
    "  </td>\n",
    "  <td>\n",
    "    <a href=\"https://storage.googleapis.com/tensorflow_docs/docs-l10n/site/zh-cn/tutorials/quickstart/beginner.ipynb\"><img src=\"https://www.tensorflow.org/images/download_logo_32px.png\" />下载笔记本</a>\n",
    "  </td>\n",
    "</table>"
   ]
  },
  {
   "cell_type": "markdown",
   "metadata": {
    "colab_type": "text",
    "id": "GEe3i16tQPjo"
   },
   "source": [
    "Note: 我们的 TensorFlow 社区翻译了这些文档。因为社区翻译是尽力而为， 所以无法保证它们是最准确的，并且反映了最新的\n",
    "[官方英文文档](https://www.tensorflow.org/?hl=en)。如果您有改进此翻译的建议， 请提交 pull request 到\n",
    "[tensorflow/docs](https://github.com/tensorflow/docs) GitHub 仓库。要志愿地撰写或者审核译文，请加入\n",
    "[docs-zh-cn@tensorflow.org Google Group](https://groups.google.com/a/tensorflow.org/forum/#!forum/docs-zh-cn)。"
   ]
  },
  {
   "cell_type": "markdown",
   "metadata": {
    "colab_type": "text",
    "id": "hiH7AC-NTniF"
   },
   "source": [
    "这是一个 [Google Colaboratory](https://colab.research.google.com/notebooks/welcome.ipynb) 笔记本文件。 Python程序可以直接在浏览器中运行，这是学习 Tensorflow 的绝佳方式。想要学习该教程，请点击此页面顶部的按钮，在Google Colab中运行笔记本。\n",
    "\n",
    "1. 在 Colab中, 连接到Python运行环境： 在菜单条的右上方, 选择 *CONNECT*。\n",
    "2. 运行所有的代码块: 选择 *Runtime* > *Run all*。"
   ]
  },
  {
   "cell_type": "markdown",
   "metadata": {
    "colab_type": "text",
    "id": "nnrWf3PCEzXL"
   },
   "source": [
    "下载并安装 TensorFlow 2.0 测试版包。将 TensorFlow 载入你的程序："
   ]
  },
  {
   "cell_type": "code",
   "execution_count": 5,
   "metadata": {
    "colab": {},
    "colab_type": "code",
    "id": "0trJmd6DjqBZ"
   },
   "outputs": [],
   "source": [
    "# 安装 TensorFlow\n",
    "\n",
    "import tensorflow as tf"
   ]
  },
  {
   "cell_type": "markdown",
   "metadata": {
    "colab_type": "text",
    "id": "7NAbSZiaoJ4z"
   },
   "source": [
    "载入并准备好 [MNIST 数据集](http://yann.lecun.com/exdb/mnist/)。将样本从整数转换为浮点数："
   ]
  },
  {
   "cell_type": "code",
   "execution_count": 6,
   "metadata": {
    "colab": {},
    "colab_type": "code",
    "id": "7FP5258xjs-v"
   },
   "outputs": [],
   "source": [
    "mnist = tf.keras.datasets.mnist\n",
    "\n",
    "(x_train, y_train), (x_test, y_test) = mnist.load_data()\n",
    "x_train, x_test = x_train / 255.0, x_test / 255.0"
   ]
  },
  {
   "cell_type": "markdown",
   "metadata": {
    "colab_type": "text",
    "id": "BPZ68wASog_I"
   },
   "source": [
    "将模型的各层堆叠起来，以搭建 `tf.keras.Sequential` 模型。为训练选择优化器和损失函数："
   ]
  },
  {
   "cell_type": "code",
   "execution_count": 7,
   "metadata": {
    "colab": {},
    "colab_type": "code",
    "id": "h3IKyzTCDNGo"
   },
   "outputs": [],
   "source": [
    "model = tf.keras.models.Sequential([\n",
    "    tf.keras.layers.Flatten(input_shape=(28, 28)),\n",
    "    tf.keras.layers.Dense(128, activation='relu'),\n",
    "    tf.keras.layers.Dropout(0.2),\n",
    "    tf.keras.layers.Dense(10, activation='softmax')\n",
    "])\n",
    "\n",
    "model.compile(optimizer='adam',\n",
    "              loss='sparse_categorical_crossentropy',\n",
    "              metrics=['accuracy'])"
   ]
  },
  {
   "cell_type": "markdown",
   "metadata": {
    "colab_type": "text",
    "id": "ix4mEL65on-w"
   },
   "source": [
    "训练并验证模型："
   ]
  },
  {
   "cell_type": "code",
   "execution_count": 8,
   "metadata": {
    "colab": {},
    "colab_type": "code",
    "id": "F7dTAzgHDUh7"
   },
   "outputs": [
    {
     "name": "stdout",
     "output_type": "stream",
     "text": [
      "Epoch 1/10\n",
      "1875/1875 [==============================] - 2s 1ms/step - loss: 0.2968 - accuracy: 0.9136\n",
      "Epoch 2/10\n",
      "1875/1875 [==============================] - 2s 1ms/step - loss: 0.1442 - accuracy: 0.9571\n",
      "Epoch 3/10\n",
      "1875/1875 [==============================] - 2s 1ms/step - loss: 0.1073 - accuracy: 0.9681\n",
      "Epoch 4/10\n",
      "1875/1875 [==============================] - 2s 1ms/step - loss: 0.0881 - accuracy: 0.9724\n",
      "Epoch 5/10\n",
      "1875/1875 [==============================] - 2s 1ms/step - loss: 0.0758 - accuracy: 0.9761\n",
      "Epoch 6/10\n",
      "1875/1875 [==============================] - 2s 1ms/step - loss: 0.0650 - accuracy: 0.9795\n",
      "Epoch 7/10\n",
      "1875/1875 [==============================] - 2s 1ms/step - loss: 0.0581 - accuracy: 0.9810\n",
      "Epoch 8/10\n",
      "1875/1875 [==============================] - 2s 1ms/step - loss: 0.0521 - accuracy: 0.9827\n",
      "Epoch 9/10\n",
      "1875/1875 [==============================] - 2s 1ms/step - loss: 0.0499 - accuracy: 0.9836\n",
      "Epoch 10/10\n",
      "1875/1875 [==============================] - 2s 1ms/step - loss: 0.0439 - accuracy: 0.9854\n",
      "313/313 - 0s - loss: 0.0721 - accuracy: 0.9781\n"
     ]
    },
    {
     "data": {
      "text/plain": [
       "[0.07211852818727493, 0.9781000018119812]"
      ]
     },
     "execution_count": 8,
     "metadata": {},
     "output_type": "execute_result"
    }
   ],
   "source": [
    "model.fit(x_train, y_train, epochs=10)\n",
    "\n",
    "model.evaluate(x_test, y_test, verbose=2)"
   ]
  },
  {
   "cell_type": "markdown",
   "metadata": {
    "colab_type": "text",
    "id": "T4JfEh7kvx6m"
   },
   "source": [
    "现在，这个照片分类器的准确度已经达到 98%。想要了解更多，请阅读 [TensorFlow 教程](https://www.tensorflow.org/tutorials/)。"
   ]
  }
 ],
 "metadata": {
  "colab": {
   "collapsed_sections": [],
   "name": "beginner.ipynb",
   "private_outputs": true,
   "provenance": [],
   "toc_visible": true,
   "version": "0.3.2"
  },
  "kernelspec": {
   "display_name": "py3-gpu-jupyter-ds",
   "language": "python",
   "name": "py3-gpu-jupyter-ds"
  },
  "language_info": {
   "codemirror_mode": {
    "name": "ipython",
    "version": 3
   },
   "file_extension": ".py",
   "mimetype": "text/x-python",
   "name": "python",
   "nbconvert_exporter": "python",
   "pygments_lexer": "ipython3",
   "version": "3.8.5"
  }
 },
 "nbformat": 4,
 "nbformat_minor": 1
}
